{
 "cells": [
  {
   "cell_type": "code",
   "execution_count": 1,
   "id": "cathedral-trinidad",
   "metadata": {},
   "outputs": [],
   "source": [
    "import numpy as np\n",
    "import matplotlib.pyplot as plt\n",
    "import h5py\n",
    "import serial\n",
    "import mrtfuncs as mrtf\n",
    "import os\n",
    "from astropy import units as u, constants as c"
   ]
  },
  {
   "cell_type": "code",
   "execution_count": 2,
   "id": "29527333",
   "metadata": {},
   "outputs": [],
   "source": [
    "def plotMRT(hdf):\n",
    "    \n",
    "    fig, ax = plt.subplots(nrows=2,ncols=2,figsize=(12,5))\n",
    "    ax[0,0].plot(hdf['counter'])\n",
    "    ax[0,1].plot(hdf['delta_t'])\n",
    "    ax[1,0].plot(hdf['nsteps_az'])\n",
    "    ax[1,1].plot(hdf['nsteps_el'])\n",
    "    \n",
    "    return fig, ax"
   ]
  },
  {
   "cell_type": "code",
   "execution_count": 3,
   "id": "partial-color",
   "metadata": {},
   "outputs": [
    {
     "data": {
      "text/plain": [
       "'/dev/cu.usbmodem14201'"
      ]
     },
     "execution_count": 3,
     "metadata": {},
     "output_type": "execute_result"
    }
   ],
   "source": [
    "baudrate = 115200\n",
    "mrtf.arduinoPort(baudrate)"
   ]
  },
  {
   "cell_type": "code",
   "execution_count": 4,
   "id": "7400c7fa",
   "metadata": {},
   "outputs": [],
   "source": [
    "ser = serial.Serial(mrtf.arduinoPort(baudrate), baudrate)"
   ]
  },
  {
   "cell_type": "code",
   "execution_count": 5,
   "id": "8f168f27",
   "metadata": {},
   "outputs": [
    {
     "data": {
      "text/plain": [
       "[b'0', b'0.00', b'xxxxxxxxxxxx', b'AZ', b'0', b'EL', b'0']"
      ]
     },
     "execution_count": 5,
     "metadata": {},
     "output_type": "execute_result"
    }
   ],
   "source": [
    "ser.readline().split()"
   ]
  },
  {
   "cell_type": "code",
   "execution_count": 6,
   "id": "5124f24c",
   "metadata": {},
   "outputs": [
    {
     "data": {
      "text/plain": [
       "14"
      ]
     },
     "execution_count": 6,
     "metadata": {},
     "output_type": "execute_result"
    }
   ],
   "source": [
    "ser.write(b'<e-m000101000>')"
   ]
  },
  {
   "cell_type": "code",
   "execution_count": 7,
   "id": "9b8a89ff",
   "metadata": {},
   "outputs": [],
   "source": [
    "rateHz = 10\n",
    "nsecs = 10\n",
    "Ntod = rateHz * nsecs"
   ]
  },
  {
   "cell_type": "code",
   "execution_count": 8,
   "id": "9501b849",
   "metadata": {},
   "outputs": [],
   "source": [
    "filename = 'arduino.hdf5'"
   ]
  },
  {
   "cell_type": "code",
   "execution_count": 9,
   "id": "8cd4442a",
   "metadata": {},
   "outputs": [],
   "source": [
    "# Create the file\n",
    "if os.path.exists(filename):\n",
    "    os.remove(filename)\n",
    "f = h5py.File(filename, 'w')\n",
    "counter = f.create_dataset('counter', (Ntod,), dtype='i')\n",
    "delta_t = f.create_dataset('delta_t', (Ntod,), dtype='f')\n",
    "nsteps_az = f.create_dataset('nsteps_az', (Ntod,), dtype='i')\n",
    "nsteps_el = f.create_dataset('nsteps_el', (Ntod,), dtype='i')\n",
    "\n",
    "# write to it\n",
    "cnt = 0\n",
    "while cnt < Ntod:\n",
    "    \n",
    "    if ser.inWaiting() > 0:\n",
    "        \n",
    "        line = ser.readline().split()\n",
    "        # How to generalize this?\n",
    "        counter[cnt] = int(line[0])\n",
    "        delta_t[cnt] = float(line[1])\n",
    "        nsteps_az[cnt] = int(line[4])\n",
    "        nsteps_el[cnt] = int(line[6])\n",
    "        \n",
    "        cnt += 1\n",
    "\n",
    "f.close()"
   ]
  },
  {
   "cell_type": "code",
   "execution_count": 10,
   "id": "462be259",
   "metadata": {},
   "outputs": [],
   "source": [
    "ser.close()"
   ]
  },
  {
   "cell_type": "code",
   "execution_count": 11,
   "id": "7eada551",
   "metadata": {},
   "outputs": [
    {
     "data": {
      "image/png": "[encoded data removed]",
      "text/plain": [
       "<Figure size 864x360 with 4 Axes>"
      ]
     },
     "metadata": {
      "needs_background": "light"
     },
     "output_type": "display_data"
    }
   ],
   "source": [
    "read = h5py.File('arduino.hdf5','r')\n",
    "plotMRT(read)\n",
    "read.close()"
   ]
  },
  {
   "cell_type": "code",
   "execution_count": null,
   "id": "a113cabe",
   "metadata": {},
   "outputs": [],
   "source": [
    "read = h5py.File('arduino.hdf5','r')\n",
    "plt.plot(np.diff(read['counter']))"
   ]
  },
  {
   "cell_type": "code",
   "execution_count": null,
   "id": "4cacc00a",
   "metadata": {},
   "outputs": [],
   "source": [
    "read.close()"
   ]
  },
  {
   "cell_type": "code",
   "execution_count": null,
   "id": "895621b4",
   "metadata": {},
   "outputs": [],
   "source": [
    "(0.1*u.deg/u.s).to(u.arcsec/u.s)*(1/(100*u.Hz))"
   ]
  },
  {
   "cell_type": "code",
   "execution_count": null,
   "id": "f74169f1",
   "metadata": {},
   "outputs": [],
   "source": [
    "(2*u.deg/1000.).to(u.arcsec)"
   ]
  },
  {
   "cell_type": "code",
   "execution_count": null,
   "id": "e6c1eaad",
   "metadata": {},
   "outputs": [],
   "source": []
  }
 ],
 "metadata": {
  "kernelspec": {
   "display_name": "Python 3",
   "language": "python",
   "name": "python3"
  },
  "language_info": {
   "codemirror_mode": {
    "name": "ipython",
    "version": 3
   },
   "file_extension": ".py",
   "mimetype": "text/x-python",
   "name": "python",
   "nbconvert_exporter": "python",
   "pygments_lexer": "ipython3",
   "version": "3.7.10"
  }
 },
 "nbformat": 4,
 "nbformat_minor": 5
}
