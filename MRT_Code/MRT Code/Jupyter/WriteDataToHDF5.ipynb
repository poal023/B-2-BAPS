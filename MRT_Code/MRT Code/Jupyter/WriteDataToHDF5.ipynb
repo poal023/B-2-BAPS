{
 "cells": [
  {
   "cell_type": "code",
   "execution_count": 1,
   "id": "universal-hanging",
   "metadata": {},
   "outputs": [],
   "source": [
    "import numpy as np\n",
    "import matplotlib.pyplot as plt\n",
    "import h5py"
   ]
  },
  {
   "cell_type": "code",
   "execution_count": 11,
   "id": "liberal-profession",
   "metadata": {},
   "outputs": [],
   "source": [
    "# Dumb test.  Just checking that I can create a data set, \n",
    "# write to it one element at a time, and then close\n",
    "N = 100\n",
    "write = h5py.File(\"test.hdf5\", \"w\")\n",
    "dset = write.create_dataset(\"mydataset\", (N,), dtype='i')\n",
    "\n",
    "for i in np.arange(100):\n",
    "    dset[i] = 2*i\n",
    "\n",
    "write.close()"
   ]
  },
  {
   "cell_type": "code",
   "execution_count": 12,
   "id": "thick-excitement",
   "metadata": {},
   "outputs": [],
   "source": [
    "read = h5py.File('test.hdf5', 'r')"
   ]
  },
  {
   "cell_type": "code",
   "execution_count": 13,
   "id": "economic-sitting",
   "metadata": {},
   "outputs": [
    {
     "data": {
      "text/plain": [
       "[<matplotlib.lines.Line2D at 0x114c03250>]"
      ]
     },
     "execution_count": 13,
     "metadata": {},
     "output_type": "execute_result"
    },
    {
     "data": {
      "image/png": "[encoded data removed]",
      "text/plain": [
       "<Figure size 432x288 with 1 Axes>"
      ]
     },
     "metadata": {
      "needs_background": "light"
     },
     "output_type": "display_data"
    }
   ],
   "source": [
    "plt.plot(read['mydataset'])"
   ]
  },
  {
   "cell_type": "code",
   "execution_count": 7,
   "id": "racial-project",
   "metadata": {},
   "outputs": [],
   "source": [
    "read.close()"
   ]
  },
  {
   "cell_type": "code",
   "execution_count": null,
   "id": "reported-pixel",
   "metadata": {},
   "outputs": [],
   "source": []
  }
 ],
 "metadata": {
  "kernelspec": {
   "display_name": "Python 3",
   "language": "python",
   "name": "python3"
  },
  "language_info": {
   "codemirror_mode": {
    "name": "ipython",
    "version": 3
   },
   "file_extension": ".py",
   "mimetype": "text/x-python",
   "name": "python",
   "nbconvert_exporter": "python",
   "pygments_lexer": "ipython3",
   "version": "3.7.10"
  }
 },
 "nbformat": 4,
 "nbformat_minor": 5
}
