{
 "cells": [
  {
   "cell_type": "code",
   "execution_count": 1,
   "metadata": {},
   "outputs": [],
   "source": [
    "import os\n",
    "import sys\n",
    "import serial"
   ]
  },
  {
   "cell_type": "code",
   "execution_count": 2,
   "metadata": {},
   "outputs": [],
   "source": [
    "debug = False\n",
    "baudrate = 115200"
   ]
  },
  {
   "cell_type": "code",
   "execution_count": null,
   "metadata": {},
   "outputs": [],
   "source": []
  },
  {
   "cell_type": "code",
   "execution_count": 3,
   "metadata": {},
   "outputs": [],
   "source": [
    "def arduinoPort(auto = True): # Returns the detected or selected port\n",
    "    while True:\n",
    "        # Variables\n",
    "        status = False\n",
    "        ports = []\n",
    "        indexList = []\n",
    "\n",
    "        # Functions\n",
    "        def portList(portDirectory = '/dev'): # Finds possible ports for your OS\n",
    "            # Variables\n",
    "            linuxPortPrefix = 'tty'\n",
    "            macOSPortPrefix = 'cu.usbmodem'\n",
    "            ports = []\n",
    "\n",
    "            # Functions\n",
    "            def portSearch(portPrefix):\n",
    "                for file in os.listdir(portDirectory):\n",
    "                    if file.startswith(portPrefix):\n",
    "                        ports.append(os.path.join(portDirectory, file))\n",
    "\n",
    "            # Logic\n",
    "            if sys.platform.startswith('linux'):\n",
    "                portSearch(linuxPortPrefix)\n",
    "            elif sys.platform.startswith('darwin'):\n",
    "                portSearch(macOSPortPrefix)\n",
    "\n",
    "\n",
    "            # Debug\n",
    "            if debug:\n",
    "                print('DEBUG: The following are possible Arduino ports: ')\n",
    "                print('DEBUG: ' + str(ports))\n",
    "\n",
    "            return ports\n",
    "\n",
    "        def testPort(port): # Test serial capability\n",
    "            try:\n",
    "                ser = serial.Serial(port, baudrate)\n",
    "                ser.close()\n",
    "                return True\n",
    "                if debug:\n",
    "                    print('DEBUG: Serial device found on ' + port)\n",
    "            except:\n",
    "                return False\n",
    "                if debug:\n",
    "                    print('DEBUG: Unable to start ' + port)\n",
    "\n",
    "        def manualPortEntry(): # Manually choose or enter port\n",
    "            ports = []\n",
    "            index = 0\n",
    "            selectionIndex = -1\n",
    "            print('Possible Ports: ')\n",
    "            for port in portList():\n",
    "                print(str(index)+ ' | ' + port)\n",
    "                ports.append(port)\n",
    "                index += 1\n",
    "            print(str(index) + ' | [Manual Input]')\n",
    "            while selectionIndex == -1:\n",
    "                try:\n",
    "                    selectionIndex = int(input('Please select port: '))\n",
    "                    if selectionIndex == len(ports):\n",
    "                        return input('Please manually enter port: ')\n",
    "                    elif selectionIndex not in indexList:\n",
    "                        raise ValueError\n",
    "                except ValueError:\n",
    "                    selection = -1\n",
    "                    print('Please make a valid selection.')\n",
    "            return ports[selectionIndex]\n",
    "\n",
    "        def manualPortSelection(ports):\n",
    "            index = 0\n",
    "            selectionIndex = -1\n",
    "            print('Detected Ports: ')\n",
    "            for port in ports:\n",
    "                print(str(index)+ ' | ' + port)\n",
    "                indexList.append(index)\n",
    "                index += 1\n",
    "            while selectionIndex == -1:\n",
    "                try:\n",
    "                    selectionIndex = int(input('Please select port: '))\n",
    "                    if selectionIndex not in indexList:\n",
    "                        raise ValueError\n",
    "                except ValueError:\n",
    "                    selection = -1\n",
    "                    print('Please make a valid selection.')\n",
    "            return ports[selectionIndex]\n",
    "\n",
    "        # Logic\n",
    "        if auto:\n",
    "            for port in portList():\n",
    "                if testPort(port): # If port works, create list of ports.\n",
    "                    ports.append(port)\n",
    "                    if debug:\n",
    "                        print('DEBUG: Verified port: ' + port)\n",
    "            if len(ports) == 0:\n",
    "                print('Please verify Arduino connection.')\n",
    "                input(\"Press Enter to retry...\")\n",
    "            elif len(ports) > 1:\n",
    "                if debug:\n",
    "                    print('DEBUG: More than 1 possible port detected.')\n",
    "                return manualPortSelection(ports)\n",
    "                break\n",
    "            else:\n",
    "                return ports[0]\n",
    "                break\n",
    "        else:\n",
    "            return manualPortEntry()\n",
    "            break"
   ]
  },
  {
   "cell_type": "code",
   "execution_count": 4,
   "metadata": {},
   "outputs": [
    {
     "data": {
      "text/plain": [
       "'/dev/cu.usbmodem14201'"
      ]
     },
     "execution_count": 4,
     "metadata": {},
     "output_type": "execute_result"
    }
   ],
   "source": [
    "arduinoPort()"
   ]
  },
  {
   "cell_type": "code",
   "execution_count": null,
   "metadata": {},
   "outputs": [],
   "source": [
    "ser = serial.Serial(arduinoPort(), baudrate)"
   ]
  }
 ],
 "metadata": {
  "kernelspec": {
   "display_name": "Python 3",
   "language": "python",
   "name": "python3"
  },
  "language_info": {
   "codemirror_mode": {
    "name": "ipython",
    "version": 3
   },
   "file_extension": ".py",
   "mimetype": "text/x-python",
   "name": "python",
   "nbconvert_exporter": "python",
   "pygments_lexer": "ipython3",
   "version": "3.7.1"
  }
 },
 "nbformat": 4,
 "nbformat_minor": 2
}
