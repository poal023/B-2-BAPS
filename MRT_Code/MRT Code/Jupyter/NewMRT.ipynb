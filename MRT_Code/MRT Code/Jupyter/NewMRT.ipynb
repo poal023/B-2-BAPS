{
 "cells": [
  {
   "cell_type": "code",
   "execution_count": 1,
   "id": "ae20dce9",
   "metadata": {},
   "outputs": [],
   "source": [
    "import numpy as np\n",
    "import serial\n",
    "import mrtfuncs as mrtf"
   ]
  },
  {
   "cell_type": "code",
   "execution_count": 2,
   "id": "29aeec70",
   "metadata": {},
   "outputs": [
    {
     "data": {
      "text/plain": [
       "'/dev/cu.usbmodem14101'"
      ]
     },
     "execution_count": 2,
     "metadata": {},
     "output_type": "execute_result"
    }
   ],
   "source": [
    "# Just have to know this\n",
    "baudrate = 115200\n",
    "mrtf.arduinoPort(baudrate)"
   ]
  },
  {
   "cell_type": "code",
   "execution_count": 3,
   "id": "257f197a",
   "metadata": {},
   "outputs": [],
   "source": [
    "ser = serial.Serial(mrtf.arduinoPort(baudrate), baudrate)"
   ]
  },
  {
   "cell_type": "code",
   "execution_count": 6,
   "id": "c09d4ed3",
   "metadata": {},
   "outputs": [
    {
     "name": "stdout",
     "output_type": "stream",
     "text": [
      "[b'11', b'1000.00', b'AZ', b'0', b'EL', b'0']\n",
      "[b'12', b'1000.00', b'AZ', b'0', b'EL', b'0']\n",
      "[b'13', b'1000.00', b'AZ', b'0', b'EL', b'0']\n",
      "[b'14', b'1000.00', b'AZ', b'0', b'EL', b'0']\n",
      "[b'15', b'1000.00', b'AZ', b'0', b'EL', b'0']\n",
      "[b'16', b'1000.00', b'AZ', b'0', b'EL', b'0']\n",
      "[b'17', b'1000.00', b'AZ', b'0', b'EL', b'0']\n",
      "[b'18', b'1000.00', b'AZ', b'0', b'EL', b'0']\n",
      "[b'19', b'1000.00', b'AZ', b'0', b'EL', b'0']\n",
      "[b'20', b'1000.00', b'AZ', b'0', b'EL', b'0']\n"
     ]
    }
   ],
   "source": [
    "counter = 0\n",
    "while counter < 10:\n",
    "    \n",
    "    if ser.inWaiting() > 0:\n",
    "        \n",
    "        print(ser.readline().split())\n",
    "        counter += 1"
   ]
  },
  {
   "cell_type": "code",
   "execution_count": 10,
   "id": "3569c781",
   "metadata": {},
   "outputs": [
    {
     "data": {
      "text/plain": [
       "b'ARDUINO MRT Mk3\\r\\n'"
      ]
     },
     "execution_count": 10,
     "metadata": {},
     "output_type": "execute_result"
    }
   ],
   "source": [
    "ser.readline()"
   ]
  },
  {
   "cell_type": "code",
   "execution_count": 11,
   "id": "be3653c1",
   "metadata": {},
   "outputs": [
    {
     "data": {
      "text/plain": [
       "[b'0', b'0.00', b'AZ', b'0', b'EL', b'0']"
      ]
     },
     "execution_count": 11,
     "metadata": {},
     "output_type": "execute_result"
    }
   ],
   "source": [
    "ser.readline().split()"
   ]
  },
  {
   "cell_type": "code",
   "execution_count": 16,
   "id": "34652c7b",
   "metadata": {},
   "outputs": [],
   "source": [
    "ser.close()"
   ]
  },
  {
   "cell_type": "code",
   "execution_count": null,
   "id": "f7b9f341",
   "metadata": {},
   "outputs": [],
   "source": []
  }
 ],
 "metadata": {
  "kernelspec": {
   "display_name": "Python 3",
   "language": "python",
   "name": "python3"
  },
  "language_info": {
   "codemirror_mode": {
    "name": "ipython",
    "version": 3
   },
   "file_extension": ".py",
   "mimetype": "text/x-python",
   "name": "python",
   "nbconvert_exporter": "python",
   "pygments_lexer": "ipython3",
   "version": "3.7.10"
  }
 },
 "nbformat": 4,
 "nbformat_minor": 5
}
